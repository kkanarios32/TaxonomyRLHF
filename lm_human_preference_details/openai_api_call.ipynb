{
 "cells": [
  {
   "cell_type": "code",
   "execution_count": 3,
   "id": "7501e396-0ed8-4b17-8ec4-4211a0de7362",
   "metadata": {},
   "outputs": [
    {
     "name": "stdout",
     "output_type": "stream",
     "text": [
      "ChatCompletionMessage(content=\"Comparison: Summary B better captures the context and efforts to accommodate the mother's concerns about the trip, whereas Summary A incorrectly implies that the issue is about the mother being mad due to not flying on her own.\\nPreferred: B\", role='assistant', function_call=None, tool_calls=None)\n"
     ]
    }
   ],
   "source": [
    "from openai import OpenAI\n",
    "client = OpenAI()\n",
    "\n",
    "completion = client.chat.completions.create(\n",
    "  model=\"gpt-4-turbo\",\n",
    "  messages=[\n",
    "    {\"role\": \"system\", \"content\": \"You are mimicking a human rater who compares two summaries of a Reddit post provided to you, and chooses the better one as commanded by the user.\"},\n",
    "    {\"role\": \"user\", \"content\": \"\"\"Which of the following summaries does a better job of summarizing the most \\\n",
    "    important points in the given forum post, without including unimportant or \\\n",
    "    irrelevant details? A good summary is both precise and concise. A concise but inaccurate summary is unhelpful.\n",
    "    Subreddit: relationships\n",
    "    Title: Mother [51] not speaking to me [21] because of a trip I am planning\n",
    "     Post: My boyfriend and I are long distance. We have a trip planned this summer which involves me going over to him in the USA. This will be the second time I have actually been with him in person. I am flying from the UK with my mum to the east coast. The original plan was for me to fly over to my boyfriend in the west coast (my parents are holidaying on the east coast) but because my mum was freaking out so much about me going to meet my boyfriend i said we can all road trip there together. I even invited her on the trip with us. I have given her all of our dates so that she can travel around with us.\\n\\nThe plan was for me to stay on the 4th July and fly back on the 5th. Mum knew this. I told her I had booked a flight back already from the west coast to east coast (where she would pick me up and we would fly back to the UK together). She has gone mad at me because she can't believe I would book a flight when she told me she didn't want me flying on my own. At the time I had booked it she told me she wasn't gonna road trip with us. She knew the trip was happening.......how else was I to get home if I don't fly? \\n\\nI am fine flying on my own it doesn't bother me at all. I feel like I have done everything I can to make her feel comfortable with this trip and she is just trying to sabotage it. Thoughts??\n",
    "Summary A: Mum is mad at me for not flying on my own trip to meet my boyfriend.\n",
    "Summary B: I have made sure my mother is comfortable with my boyfriend travelling on a trip and now my mother is mad because I booked it.\n",
    "FIRST provide a one-sentence comparison of the two summaries, explaining which \\\n",
    "you prefer and why. SECOND, on a new line, state only \"A\" or \"B\" to indicate your \\\n",
    "choice. Your response should use the format:\n",
    "Comparison: <one-sentence comparison and explanation>\n",
    "Preferred: <\"A\" or \"B\">\"\"\"}\n",
    "  ]\n",
    ")\n",
    "\n",
    "print(completion.choices[0].message)"
   ]
  },
  {
   "cell_type": "code",
   "execution_count": null,
   "id": "2536253b-99c5-4649-8195-6a9d354e218a",
   "metadata": {},
   "outputs": [],
   "source": []
  },
  {
   "cell_type": "code",
   "execution_count": null,
   "id": "f093a440-22d0-4db1-ad7d-6a1c85b10be7",
   "metadata": {},
   "outputs": [],
   "source": []
  }
 ],
 "metadata": {
  "kernelspec": {
   "display_name": "Python 3 (ipykernel)",
   "language": "python",
   "name": "python3"
  },
  "language_info": {
   "codemirror_mode": {
    "name": "ipython",
    "version": 3
   },
   "file_extension": ".py",
   "mimetype": "text/x-python",
   "name": "python",
   "nbconvert_exporter": "python",
   "pygments_lexer": "ipython3",
   "version": "3.10.9"
  }
 },
 "nbformat": 4,
 "nbformat_minor": 5
}
