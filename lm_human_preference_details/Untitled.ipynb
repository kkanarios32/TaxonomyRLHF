{
 "cells": [
  {
   "cell_type": "code",
   "execution_count": 1,
   "id": "d92d4ff0-8b62-4158-889e-ac4a37f2f754",
   "metadata": {},
   "outputs": [],
   "source": [
    "import numpy as np"
   ]
  },
  {
   "cell_type": "code",
   "execution_count": 6,
   "id": "d09bb8cc-ad31-45a2-9718-bc7641002c7c",
   "metadata": {},
   "outputs": [
    {
     "name": "stderr",
     "output_type": "stream",
     "text": [
      "/tmp/ipykernel_2019669/2502245002.py:3: DeprecationWarning: elementwise comparison failed; this will raise an error in the future.\n",
      "  a != b\n"
     ]
    },
    {
     "data": {
      "text/plain": [
       "True"
      ]
     },
     "execution_count": 6,
     "metadata": {},
     "output_type": "execute_result"
    }
   ],
   "source": [
    "a = np.array([1,2,3])\n",
    "b = [2,3]\n",
    "a != b"
   ]
  },
  {
   "cell_type": "code",
   "execution_count": null,
   "id": "adafaa0c-dca1-4ce6-88cb-270f082c05f6",
   "metadata": {},
   "outputs": [],
   "source": []
  }
 ],
 "metadata": {
  "kernelspec": {
   "display_name": "Python 3 (ipykernel)",
   "language": "python",
   "name": "python3"
  },
  "language_info": {
   "codemirror_mode": {
    "name": "ipython",
    "version": 3
   },
   "file_extension": ".py",
   "mimetype": "text/x-python",
   "name": "python",
   "nbconvert_exporter": "python",
   "pygments_lexer": "ipython3",
   "version": "3.9.7"
  }
 },
 "nbformat": 4,
 "nbformat_minor": 5
}
