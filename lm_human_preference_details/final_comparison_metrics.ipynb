{
 "cells": [
  {
   "cell_type": "code",
   "execution_count": 1,
   "id": "ccfd9cce-453b-4660-8432-fd0bb7da8955",
   "metadata": {},
   "outputs": [
    {
     "name": "stderr",
     "output_type": "stream",
     "text": [
      "100%|██████████| 1000/1000 [00:00<00:00, 113469.97it/s]"
     ]
    },
    {
     "name": "stdout",
     "output_type": "stream",
     "text": [
      "572.9670000000006\n"
     ]
    },
    {
     "name": "stderr",
     "output_type": "stream",
     "text": [
      "\n"
     ]
    }
   ],
   "source": [
    "import json\n",
    "from tqdm import tqdm\n",
    "\n",
    "sft_output_lens = []\n",
    "avg_output_len = 0\n",
    "with (open(\"model_outputs/sft.jsonl\", \"r\") as sft_file):\n",
    "    sft_data = list(sft_file)\n",
    "    for i in tqdm(range(1000)):\n",
    "        sft_json = json.loads(sft_data[i])\n",
    "        current_len = len(sft_json[\"response\"].strip())\n",
    "        sft_output_lens.append(current_len)\n",
    "        avg_output_len += current_len/1000.0\n",
    "print(avg_output_len)"
   ]
  },
  {
   "cell_type": "code",
   "execution_count": 2,
   "id": "b1558403-4469-482f-8c98-06a95f923e23",
   "metadata": {},
   "outputs": [
    {
     "data": {
      "image/png": "[encoded data removed]",
      "text/plain": [
       "<Figure size 432x288 with 1 Axes>"
      ]
     },
     "metadata": {
      "needs_background": "light"
     },
     "output_type": "display_data"
    }
   ],
   "source": [
    "import matplotlib.pyplot as plt\n",
    "import numpy as np\n",
    " \n",
    "# Plotting a basic histogram\n",
    "plt.hist(sft_output_lens, bins=30, color='skyblue', edgecolor='black')\n",
    " \n",
    "# Adding labels and title\n",
    "plt.xlabel('Output Length')\n",
    "plt.ylabel('Frequency')\n",
    "plt.title('SFT Output Length Histogram')\n",
    " \n",
    "# Display the plot\n",
    "plt.savefig(\"eval_results/sft_output_lengths.jpeg\")\n",
    "plt.show()"
   ]
  },
  {
   "cell_type": "code",
   "execution_count": 3,
   "id": "e1b8e1c3-af5e-4685-bfb1-6091f3757c32",
   "metadata": {},
   "outputs": [
    {
     "name": "stderr",
     "output_type": "stream",
     "text": [
      "100%|██████████| 1000/1000 [00:00<00:00, 114040.73it/s]"
     ]
    },
    {
     "name": "stdout",
     "output_type": "stream",
     "text": [
      "618.2310000000008\n"
     ]
    },
    {
     "name": "stderr",
     "output_type": "stream",
     "text": [
      "\n"
     ]
    }
   ],
   "source": [
    "import json\n",
    "from tqdm import tqdm\n",
    "\n",
    "dpo_output_lens = []\n",
    "avg_output_len = 0\n",
    "with (open(\"model_outputs/dpo.jsonl\", \"r\") as dpo_file):\n",
    "    dpo_data = list(dpo_file)\n",
    "    for i in tqdm(range(1000)):\n",
    "        dpo_json = json.loads(dpo_data[i])\n",
    "        current_len = len(dpo_json[\"response\"].strip())\n",
    "        dpo_output_lens.append(current_len)\n",
    "        avg_output_len += current_len/1000.0\n",
    "print(avg_output_len)"
   ]
  },
  {
   "cell_type": "code",
   "execution_count": 4,
   "id": "1b359c2b-59e3-438b-93ad-5ee065bc4722",
   "metadata": {},
   "outputs": [
    {
     "data": {
      "image/png": "[encoded data removed]",
      "text/plain": [
       "<Figure size 432x288 with 1 Axes>"
      ]
     },
     "metadata": {
      "needs_background": "light"
     },
     "output_type": "display_data"
    }
   ],
   "source": [
    "import matplotlib.pyplot as plt\n",
    "import numpy as np\n",
    " \n",
    "# Plotting a basic histogram\n",
    "plt.hist(dpo_output_lens, bins=30, color='skyblue', edgecolor='black')\n",
    " \n",
    "# Adding labels and title\n",
    "plt.xlabel('Output Length')\n",
    "plt.ylabel('Frequency')\n",
    "plt.title('DPO Output Length Histogram')\n",
    " \n",
    "# Display the plot\n",
    "plt.savefig(\"eval_results/dpo_output_lengths.jpeg\")\n",
    "plt.show()"
   ]
  },
  {
   "cell_type": "code",
   "execution_count": 5,
   "id": "c2d2e753-5b1d-4f4f-be04-7156c778f5e2",
   "metadata": {},
   "outputs": [
    {
     "name": "stderr",
     "output_type": "stream",
     "text": [
      "100%|██████████| 1000/1000 [00:00<00:00, 93401.86it/s]"
     ]
    },
    {
     "name": "stdout",
     "output_type": "stream",
     "text": [
      "2046.6029999999996\n"
     ]
    },
    {
     "name": "stderr",
     "output_type": "stream",
     "text": [
      "\n"
     ]
    }
   ],
   "source": [
    "import json\n",
    "from tqdm import tqdm\n",
    "\n",
    "kto_output_lens = []\n",
    "avg_output_len = 0\n",
    "with (open(\"model_outputs/kto.jsonl\", \"r\") as kto_file):\n",
    "    kto_data = list(kto_file)\n",
    "    for i in tqdm(range(1000)):\n",
    "        kto_json = json.loads(kto_data[i])\n",
    "        current_len = len(kto_json[\"response\"].strip())\n",
    "        kto_output_lens.append(current_len)\n",
    "        avg_output_len += current_len/1000.0\n",
    "print(avg_output_len)"
   ]
  },
  {
   "cell_type": "code",
   "execution_count": 6,
   "id": "132032e7-b59a-4e78-8e49-31375292e509",
   "metadata": {},
   "outputs": [
    {
     "data": {
      "image/png": "[encoded data removed]",
      "text/plain": [
       "<Figure size 432x288 with 1 Axes>"
      ]
     },
     "metadata": {
      "needs_background": "light"
     },
     "output_type": "display_data"
    }
   ],
   "source": [
    "import matplotlib.pyplot as plt\n",
    "import numpy as np\n",
    " \n",
    "# Plotting a basic histogram\n",
    "plt.hist(kto_output_lens, bins=30, color='skyblue', edgecolor='black')\n",
    " \n",
    "# Adding labels and title\n",
    "plt.xlabel('Output Length')\n",
    "plt.ylabel('Frequency')\n",
    "plt.title('KTO Output Length Histogram')\n",
    " \n",
    "# Display the plot\n",
    "plt.savefig(\"eval_results/kto_output_lengths.jpeg\")\n",
    "plt.show()"
   ]
  },
  {
   "cell_type": "code",
   "execution_count": 3,
   "id": "3fc2eb98-bdc4-4a48-a410-c1fcd22447ba",
   "metadata": {},
   "outputs": [],
   "source": [
    "import json\n",
    "from openai import OpenAI\n",
    "client = OpenAI()\n",
    "from tqdm import tqdm\n",
    "\n",
    "system_mes = \"You are mimicking a human rater who compares two summaries of a Reddit post provided to you, and chooses the better one as commanded by the user.\"\n",
    "\n",
    "user_mes_beginning = \"\"\"\"Which of the following summaries does a better job of summarizing the most \\\n",
    "important points in the given forum post, without including unimportant or \\\n",
    "irrelevant details? A good summary is both precise and concise. A concise but inaccurate summary is unhelpful. \\\n",
    "Both summaries will typically be somewhat hard to parse and have many irrelevant or made-up statements. Choose the summary that is\\\n",
    "less full of gibberish and more relevant to the text.\\n\"\"\"\n",
    "\n",
    "user_mes_end = \"\"\"FIRST provide a one-sentence comparison of the two summaries, explaining which \\\n",
    "you prefer and why. SECOND, on a new line, state only \"A\" or \"B\" to indicate your \\\n",
    "choice. Your response should use the format:\n",
    "Comparison: <one-sentence comparison and explanation>\n",
    "Preferred: <\"A\" or \"B\">\"\"\""
   ]
  },
  {
   "cell_type": "code",
   "execution_count": 4,
   "id": "3de360f1-be20-453c-9ab9-c82ead4478d7",
   "metadata": {},
   "outputs": [
    {
     "name": "stderr",
     "output_type": "stream",
     "text": [
      " 10%|█         | 1/10 [00:03<00:30,  3.37s/it]"
     ]
    },
    {
     "name": "stdout",
     "output_type": "stream",
     "text": [
      "Comparison: Summary A is preferred because while it is somewhat incoherent, it retains a vague connection to the original post's theme of relationship doubts, whereas Summary B is completely nonsensical and filled with gibberish irrelevant to the post.  \n",
      "Preferred: A\n"
     ]
    },
    {
     "name": "stderr",
     "output_type": "stream",
     "text": [
      " 20%|██        | 2/10 [00:06<00:24,  3.03s/it]"
     ]
    },
    {
     "name": "stdout",
     "output_type": "stream",
     "text": [
      "Comparison: Both summaries are fraught with incoherence and poorly structured phrases; however, Summary B slightly edges out with marginally clearer context about potential consequences of living together and appears slightly more related to the original content.\n",
      "Preferred: B\n"
     ]
    },
    {
     "name": "stderr",
     "output_type": "stream",
     "text": [
      " 30%|███       | 3/10 [00:09<00:21,  3.05s/it]"
     ]
    },
    {
     "name": "stdout",
     "output_type": "stream",
     "text": [
      "Comparison: Both summaries inaccurately represent the original post's content, which involves a woman in love with her male best friend who does not reciprocate her romantic feelings; however, Summary A is slightly better as it at least acknowledges mutual feelings, which can loosely relate to their strong friendship, unlike Summary B which incorrectly states a lack of love and only tolerance.\n",
      "Preferred: A\n"
     ]
    },
    {
     "name": "stderr",
     "output_type": "stream",
     "text": [
      " 40%|████      | 4/10 [00:12<00:18,  3.09s/it]"
     ]
    },
    {
     "name": "stdout",
     "output_type": "stream",
     "text": [
      "Comparison: Summary A is more relevant and detailed about the situation and the original post's concerns regarding the neglect of the kitten by the roommate, whereas Summary B is overly vague and includes confusing phrases.\n",
      "Preferred: A\n"
     ]
    },
    {
     "name": "stderr",
     "output_type": "stream",
     "text": [
      " 50%|█████     | 5/10 [00:18<00:20,  4.12s/it]"
     ]
    },
    {
     "name": "stdout",
     "output_type": "stream",
     "text": [
      "Comparison: Summary A is slightly clearer and more focused on the main issue of the girlfriend's jealousy and the poster's dilemma about spending time with high school friends, whereas Summary B is more confused and includes extraneous expressions like \"Fuck it in case\" and \"You're welcome! THANKS!\" which do not relate to the core issue described in the post.\n",
      "Preferred: A\n"
     ]
    },
    {
     "name": "stderr",
     "output_type": "stream",
     "text": [
      " 60%|██████    | 6/10 [00:21<00:14,  3.66s/it]"
     ]
    },
    {
     "name": "stdout",
     "output_type": "stream",
     "text": [
      "Comparison: Both summaries contain jumbled and confusing phrases, but Summary B is marginally clearer as it sticks closer to the relationship and jealousy issues without veering off into completely unrelated topics such as \"sexual solipsism.\"\n",
      "Preferred: B\n"
     ]
    },
    {
     "name": "stderr",
     "output_type": "stream",
     "text": [
      " 70%|███████   | 7/10 [00:24<00:10,  3.62s/it]"
     ]
    },
    {
     "name": "stdout",
     "output_type": "stream",
     "text": [
      "Comparison: Summary B is preferable as it is more coherent and relevant to the original post's concerns about potential cheating, despite both summaries being convoluted and difficult to understand.\n",
      "Preferred: B\n"
     ]
    },
    {
     "name": "stderr",
     "output_type": "stream",
     "text": [
      " 80%|████████  | 8/10 [00:31<00:09,  4.54s/it]"
     ]
    },
    {
     "name": "stdout",
     "output_type": "stream",
     "text": [
      "Comparison: Summary B is slightly clearer in conveying the central issue of the relationship concern, mentioning specifically the boyfriend's clinginess and lack of motivation, although both summaries are confusing and contain irrelevant details.  \n",
      "Preferred: B\n"
     ]
    },
    {
     "name": "stderr",
     "output_type": "stream",
     "text": [
      " 90%|█████████ | 9/10 [00:33<00:03,  3.80s/it]"
     ]
    },
    {
     "name": "stdout",
     "output_type": "stream",
     "text": [
      "Comparison: Summary A better captures the essence of the original post concerning the guilt the poster feels when choosing friends over his girlfriend and his reaction to her response, though it includes some confusing additions; whereas Summary B introduces contradictory and irrelevant points that confuse the reader more.\n",
      "Preferred: A\n"
     ]
    },
    {
     "name": "stderr",
     "output_type": "stream",
     "text": [
      "100%|██████████| 10/10 [00:37<00:00,  3.75s/it]"
     ]
    },
    {
     "name": "stdout",
     "output_type": "stream",
     "text": [
      "Comparison: Both summaries are filled with irrelevant and nonsensical details, but Summary B references putting one's face against the pillow which is vaguely closer to the original content about flipping over and pressing the face into the pillow, making it slightly more relevant than Summary A.  \n",
      "Preferred: B\n"
     ]
    },
    {
     "name": "stderr",
     "output_type": "stream",
     "text": [
      "\n"
     ]
    }
   ],
   "source": [
    "import numpy as np\n",
    "from tqdm import tqdm\n",
    "import json\n",
    "pref_list = []\n",
    "with (open(\"dpo.jsonl\", \"r\") as dpo_file):\n",
    "    with (open(\"sft.jsonl\", \"r\") as sft_file):\n",
    "        # with open(\"dpo_sft_comparisons.txt\", \"a\") as dpo_sft_comparisons:\n",
    "        if True:\n",
    "            dpo_data = list(dpo_file)\n",
    "            sft_data = list(sft_file)\n",
    "            for i in tqdm(range(10)):\n",
    "                dpo_json = json.loads(dpo_data[i])\n",
    "                sft_json = json.loads(sft_data[i])\n",
    "                user_mes = user_mes_beginning + dpo_json[\"query\"] + \"\\nSummary A: \" + dpo_json[\"response\"] +\\\n",
    "                \"\\nSummary B: \" + sft_json[\"response\"] + \"\\n\" + user_mes_end\n",
    "                completion = client.chat.completions.create(model=\"gpt-4-turbo\", \n",
    "                                                            messages=[{\"role\": \"system\", \"content\": system_mes},\n",
    "                                                                      {\"role\": \"user\", \"content\": user_mes}]\n",
    "                                                           )\n",
    "                ans = completion.choices[0].message.content\n",
    "                print(ans)\n",
    "                # idx = ans.find(\"\\nPreferred: \")\n",
    "                # ans_val = ans[idx+12:]\n",
    "                # print(ans_val,)\n",
    "                # pref_list.append(ans_val)"
   ]
  },
  {
   "cell_type": "code",
   "execution_count": 34,
   "id": "64ebcbf5-27a8-465a-8af9-67980f4cc88f",
   "metadata": {},
   "outputs": [
    {
     "name": "stdout",
     "output_type": "stream",
     "text": [
      "16\n"
     ]
    }
   ],
   "source": [
    "print(pref_list.count('A'))"
   ]
  },
  {
   "cell_type": "code",
   "execution_count": 13,
   "id": "2b784a1d-2776-45e4-82f8-91886272604c",
   "metadata": {},
   "outputs": [
    {
     "name": "stdout",
     "output_type": "stream",
     "text": [
      "0.5574425574425574\n"
     ]
    }
   ],
   "source": [
    "with (open(\"dpo_sft_comparisons.txt\", \"r\") as dpo_sft_file):\n",
    "    print(dpo_sft_file.read().count(\"A\")/1001.0)"
   ]
  },
  {
   "cell_type": "code",
   "execution_count": 14,
   "id": "8c80013e-3ab0-4d61-a6ac-55b44a0b3aeb",
   "metadata": {},
   "outputs": [
    {
     "name": "stdout",
     "output_type": "stream",
     "text": [
      "0.413\n"
     ]
    }
   ],
   "source": [
    "with (open(\"kto_sft_comparisons.txt\", \"r\") as kto_sft_file):\n",
    "    print(kto_sft_file.read().count(\"A\")/1000.0)"
   ]
  },
  {
   "cell_type": "code",
   "execution_count": null,
   "id": "90b52fc0-bc06-485a-92d4-e1a7331ee9f8",
   "metadata": {},
   "outputs": [],
   "source": []
  }
 ],
 "metadata": {
  "kernelspec": {
   "display_name": "Python 3 (ipykernel)",
   "language": "python",
   "name": "python3"
  },
  "language_info": {
   "codemirror_mode": {
    "name": "ipython",
    "version": 3
   },
   "file_extension": ".py",
   "mimetype": "text/x-python",
   "name": "python",
   "nbconvert_exporter": "python",
   "pygments_lexer": "ipython3",
   "version": "3.9.7"
  }
 },
 "nbformat": 4,
 "nbformat_minor": 5
}
