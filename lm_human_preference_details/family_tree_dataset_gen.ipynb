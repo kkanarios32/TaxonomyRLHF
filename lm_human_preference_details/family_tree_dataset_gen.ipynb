{
 "cells": [
  {
   "cell_type": "code",
   "execution_count": 7,
   "id": "d92d4ff0-8b62-4158-889e-ac4a37f2f754",
   "metadata": {},
   "outputs": [],
   "source": [
    "fem_names = ['Mary', 'Patricia', 'Linda', 'Barbara', 'Elizabeth', 'Jennifer', 'Maria', 'Susan', 'Margaret', 'Dorothy', 'Lisa', 'Nancy', 'Karen', 'Betty', 'Helen', 'Sandra', 'Donna', 'Carol', 'Ruth', 'Sharon', 'Michelle', 'Laura', 'Sarah', 'Kimberly', 'Deborah', 'Jessica', 'Shirley', 'Cynthia', 'Angela', 'Melissa', 'Brenda', 'Amy', 'Anna', 'Rebecca', 'Virginia', 'Kathleen', 'Pamela', 'Martha', 'Debra', 'Amanda', 'Stephanie', 'Carolyn', 'Christine', 'Marie', 'Janet', 'Catherine', 'Frances', 'Ann', 'Joyce', 'Diane', 'Alice', 'Julie', 'Heather', 'Teresa', 'Doris', 'Gloria', 'Evelyn', 'Jean', 'Cheryl', 'Mildred', 'Katherine', 'Joan', 'Ashley', 'Judith', 'Rose', 'Janice', 'Kelly', 'Nicole', 'Judy', 'Christina', 'Kathy', 'Theresa', 'Beverly', 'Denise', 'Tammy', 'Irene', 'Jane', 'Lori', 'Rachel', 'Marilyn', 'Andrea', 'Kathryn', 'Louise', 'Sara', 'Anne', 'Jacqueline', 'Wanda', 'Bonnie', 'Julia', 'Ruby']\n",
    "masc_names = ['James', 'John', 'Robert', 'Michael', 'William', 'David', 'Richard', 'Charles', 'Joseph', 'Thomas', 'Christopher', 'Daniel', 'Paul', 'Mark', 'Donald', 'George', 'Kenneth', 'Steven', 'Edward', 'Brian', 'Ronald', 'Anthony', 'Kevin', 'Jason', 'Matthew', 'Gary', 'Timothy', 'Jose', 'Larry', 'Jeffrey', 'Frank', 'Scott', 'Eric', 'Stephen', 'Andrew', 'Raymond', 'Gregory', 'Joshua', 'Jerry', 'Dennis', 'Walter', 'Patrick', 'Peter', 'Harold', 'Douglas', 'Henry', 'Carl', 'Arthur', 'Ryan', 'Roger', 'Joe', 'Juan', 'Jack', 'Albert', 'Jonathan', 'Justin', 'Terry', 'Gerald', 'Keith', 'Samuel', 'Willie', 'Ralph', 'Lawrence', 'Nicholas', 'Roy', 'Benjamin', 'Bruce', 'Brandon', 'Adam', 'Harry', 'Fred', 'Wayne', 'Billy', 'Steve', 'Louis', 'Jeremy', 'Aaron', 'Randy', 'Howard', 'Eugene', 'Carlos', 'Russell', 'Bobby', 'Victor', 'Martin', 'Ernest', 'Phillip', 'Todd', 'Jesse', 'Craig']"
   ]
  },
  {
   "cell_type": "code",
   "execution_count": 86,
   "id": "aefebded-1d33-40f3-9aa2-8fc935a89495",
   "metadata": {},
   "outputs": [],
   "source": [
    "class Family_Member:\n",
    "    def __init__(self, parent, sab, names):\n",
    "        self.parent = parent\n",
    "        self.sab = sab\n",
    "        self.name = names[sab].pop()\n",
    "        self.children = []\n",
    "        self.siblings = []\n",
    "        \n",
    "    def __repr__(self):\n",
    "        sab_list = [\"M\", \"F\"]\n",
    "        return f\"{self.name} ({sab_list[self.sab]})\"\n",
    "    \n",
    "    def make_child(self, sab, names):\n",
    "        self.children.append(Family_Member(self, sab, names))\n",
    "        \n",
    "    def find_siblings(self):\n",
    "        if self.parent:\n",
    "            for mem in self.parent.children:\n",
    "                self.siblings.append(mem)\n",
    "           "
   ]
  },
  {
   "cell_type": "code",
   "execution_count": 87,
   "id": "d09bb8cc-ad31-45a2-9718-bc7641002c7c",
   "metadata": {},
   "outputs": [],
   "source": [
    "from random import shuffle, randint\n",
    "from copy import deepcopy\n",
    "\n",
    "def relation_trees_gen():\n",
    "    fem_names_new = deepcopy(fem_names)\n",
    "    shuffle(fem_names_new)\n",
    "    masc_names_new = deepcopy(masc_names)\n",
    "    shuffle(masc_names_new)\n",
    "\n",
    "    names = [masc_names_new, fem_names_new]\n",
    "    fam_list = []\n",
    "\n",
    "    first_gen = Family_Member(None, randint(0,1), names)\n",
    "    fam_list.append(first_gen)\n",
    "    \n",
    "    num_sec_gen = randint(1,3)\n",
    "    for i in range(num_sec_gen):\n",
    "        first_gen.make_child(randint(0,1), names)\n",
    "        \n",
    "    for second_gen in first_gen.children:\n",
    "        second_gen.find_siblings()\n",
    "        fam_list.append(second_gen)\n",
    "        \n",
    "        num_third_gen = randint(1,3)\n",
    "        for i in range(num_third_gen):\n",
    "            second_gen.make_child(randint(0,1), names)\n",
    "            \n",
    "        for third_gen in second_gen.children:\n",
    "            third_gen.find_siblings()\n",
    "            fam_list.append(third_gen)\n",
    "            \n",
    "            num_fourth_gen = randint(1,3)\n",
    "            for i in range(num_fourth_gen):\n",
    "                third_gen.make_child(randint(0,1), names)\n",
    "            \n",
    "            for fourth_gen in third_gen.children:\n",
    "                fourth_gen.find_siblings()\n",
    "                fam_list.append(fourth_gen)\n",
    "    \n",
    "    return fam_list"
   ]
  },
  {
   "cell_type": "code",
   "execution_count": 88,
   "id": "adafaa0c-dca1-4ce6-88cb-270f082c05f6",
   "metadata": {},
   "outputs": [],
   "source": [
    "list_fam_trees = []\n",
    "for i in range(6000):\n",
    "    list_fam_trees.append(relation_trees_gen())"
   ]
  },
  {
   "cell_type": "code",
   "execution_count": 90,
   "id": "d58afe5b-4b1c-4185-b286-2d7f49100558",
   "metadata": {},
   "outputs": [
    {
     "name": "stdout",
     "output_type": "stream",
     "text": [
      "15.0675\n",
      "[Tammy (F), Timothy (M)]\n"
     ]
    }
   ],
   "source": [
    "print(sum([len(i) for i in list_fam_trees])/6000.0)\n",
    "print((list_fam_trees[10][0].children))"
   ]
  },
  {
   "cell_type": "code",
   "execution_count": 102,
   "id": "8ca534d3-e12e-430a-92f0-3eb1fd854f65",
   "metadata": {},
   "outputs": [],
   "source": [
    "def children_string(children_list):\n",
    "    children_str = \"\"\n",
    "    for i in range(len(children_list)-1):\n",
    "        children_str += str(children_list[i]) + \", \"\n",
    "    children_str += str(children_list[-1])\n",
    "    \n",
    "    return children_str\n",
    "\n",
    "def family_tree_string(fam_mem):\n",
    "    \n",
    "    sab_list = [\"M\", \"F\"]\n",
    "    # print(fam_mem, fam_mem.children)\n",
    "    if len(fam_mem.children)>1:\n",
    "        fam_tree_string = f\"{fam_mem} has {len(fam_mem.children)} children: {children_string(fam_mem.children)}. \"\n",
    "        for child in fam_mem.children:\n",
    "            fam_tree_string += family_tree_string(child)\n",
    "        return fam_tree_string\n",
    "    \n",
    "    elif len(fam_mem.children)==1:\n",
    "        fam_tree_string = f\"{fam_mem} has 1 child: {children_string(fam_mem.children)}. \"\n",
    "        for child in fam_mem.children:\n",
    "            fam_tree_string += family_tree_string(child)\n",
    "        return fam_tree_string\n",
    "\n",
    "    else:\n",
    "        return \"\"\n",
    "    "
   ]
  },
  {
   "cell_type": "code",
   "execution_count": 103,
   "id": "09749e15-6bd3-44b9-820d-d0201c2ae392",
   "metadata": {},
   "outputs": [
    {
     "data": {
      "text/plain": [
       "'Howard (M) has 2 children: Tammy (F), Timothy (M). Tammy (F) has 1 child: Patrick (M). Patrick (M) has 3 children: Brandon (M), Maria (F), Betty (F). Timothy (M) has 3 children: Kathleen (F), Deborah (F), Eric (M). Kathleen (F) has 1 child: Larry (M). Deborah (F) has 1 child: Jeffrey (M). Eric (M) has 1 child: Janet (F). '"
      ]
     },
     "execution_count": 103,
     "metadata": {},
     "output_type": "execute_result"
    }
   ],
   "source": [
    "family_tree_string(list_fam_trees[10][0])"
   ]
  },
  {
   "cell_type": "code",
   "execution_count": 105,
   "id": "88b186c5-a8df-4565-af4c-cd5d967c33c8",
   "metadata": {},
   "outputs": [],
   "source": [
    "list_tasks = [\"cousins\", \"first cousins\", \"second cousins\", \n",
    "              \"siblings\", \"aunts\", \"uncles\", \"children\", \n",
    "              \"generation\", \"great-aunts\", \"great-uncles\", \"first cousins once removed\", \"grandparent\", \"parent\"]"
   ]
  },
  {
   "cell_type": "code",
   "execution_count": null,
   "id": "c0a56bd0-c6cd-4d87-827e-439315630733",
   "metadata": {},
   "outputs": [],
   "source": []
  }
 ],
 "metadata": {
  "kernelspec": {
   "display_name": "Python 3 (ipykernel)",
   "language": "python",
   "name": "python3"
  },
  "language_info": {
   "codemirror_mode": {
    "name": "ipython",
    "version": 3
   },
   "file_extension": ".py",
   "mimetype": "text/x-python",
   "name": "python",
   "nbconvert_exporter": "python",
   "pygments_lexer": "ipython3",
   "version": "3.9.7"
  }
 },
 "nbformat": 4,
 "nbformat_minor": 5
}
