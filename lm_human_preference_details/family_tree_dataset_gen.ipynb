{
 "cells": [
  {
   "cell_type": "code",
   "execution_count": 41,
   "id": "28e64154-06c5-4702-b8a1-ea0214cc6375",
   "metadata": {},
   "outputs": [],
   "source": [
    "from random import shuffle, randint, choice\n",
    "from copy import deepcopy"
   ]
  },
  {
   "cell_type": "code",
   "execution_count": 42,
   "id": "d92d4ff0-8b62-4158-889e-ac4a37f2f754",
   "metadata": {},
   "outputs": [],
   "source": [
    "# Names for family members\n",
    "\n",
    "fem_names = ['Mary', 'Patricia', 'Linda', 'Barbara', 'Elizabeth', 'Jennifer', 'Maria', 'Susan', 'Margaret', 'Dorothy', 'Lisa', 'Nancy', 'Karen', 'Betty', 'Helen', 'Sandra', 'Donna', 'Carol', 'Ruth', 'Sharon', 'Michelle', 'Laura', 'Sarah', 'Kimberly', 'Deborah', 'Jessica', 'Shirley', 'Cynthia', 'Angela', 'Melissa', 'Brenda', 'Amy', 'Anna', 'Rebecca', 'Virginia', 'Kathleen', 'Pamela', 'Martha', 'Debra', 'Amanda', 'Stephanie', 'Carolyn', 'Christine', 'Marie', 'Janet', 'Catherine', 'Frances', 'Ann', 'Joyce', 'Diane', 'Alice', 'Julie', 'Heather', 'Teresa', 'Doris', 'Gloria', 'Evelyn', 'Jean', 'Cheryl', 'Mildred', 'Katherine', 'Joan', 'Ashley', 'Judith', 'Rose', 'Janice', 'Kelly', 'Nicole', 'Judy', 'Christina', 'Kathy', 'Theresa', 'Beverly', 'Denise', 'Tammy', 'Irene', 'Jane', 'Lori', 'Rachel', 'Marilyn', 'Andrea', 'Kathryn', 'Louise', 'Sara', 'Anne', 'Jacqueline', 'Wanda', 'Bonnie', 'Julia', 'Ruby']\n",
    "masc_names = ['James', 'John', 'Robert', 'Michael', 'William', 'David', 'Richard', 'Charles', 'Joseph', 'Thomas', 'Christopher', 'Daniel', 'Paul', 'Mark', 'Donald', 'George', 'Kenneth', 'Steven', 'Edward', 'Brian', 'Ronald', 'Anthony', 'Kevin', 'Jason', 'Matthew', 'Gary', 'Timothy', 'Jose', 'Larry', 'Jeffrey', 'Frank', 'Scott', 'Eric', 'Stephen', 'Andrew', 'Raymond', 'Gregory', 'Joshua', 'Jerry', 'Dennis', 'Walter', 'Patrick', 'Peter', 'Harold', 'Douglas', 'Henry', 'Carl', 'Arthur', 'Ryan', 'Roger', 'Joe', 'Juan', 'Jack', 'Albert', 'Jonathan', 'Justin', 'Terry', 'Gerald', 'Keith', 'Samuel', 'Willie', 'Ralph', 'Lawrence', 'Nicholas', 'Roy', 'Benjamin', 'Bruce', 'Brandon', 'Adam', 'Harry', 'Fred', 'Wayne', 'Billy', 'Steve', 'Louis', 'Jeremy', 'Aaron', 'Randy', 'Howard', 'Eugene', 'Carlos', 'Russell', 'Bobby', 'Victor', 'Martin', 'Ernest', 'Phillip', 'Todd', 'Jesse', 'Craig']"
   ]
  },
  {
   "cell_type": "code",
   "execution_count": 43,
   "id": "aefebded-1d33-40f3-9aa2-8fc935a89495",
   "metadata": {},
   "outputs": [],
   "source": [
    "# Class to define a family member\n",
    "\n",
    "class Family_Member:\n",
    "    def __init__(self, parent, sab, names):\n",
    "        self.parent = parent\n",
    "        self.sab = sab\n",
    "        self.name = names[sab].pop()\n",
    "        self.children = []\n",
    "        self.siblings = []\n",
    "        \n",
    "    def __repr__(self):\n",
    "        sab_list = [\"M\", \"F\"]\n",
    "        return f\"{self.name} ({sab_list[self.sab]})\"\n",
    "    \n",
    "    def make_child(self, sab, names):\n",
    "        self.children.append(Family_Member(self, sab, names))\n",
    "        \n",
    "    def find_siblings(self):\n",
    "        if self.parent:\n",
    "            for mem in self.parent.children:\n",
    "                if (mem != self):\n",
    "                    self.siblings.append(mem)\n",
    "           "
   ]
  },
  {
   "cell_type": "code",
   "execution_count": 44,
   "id": "d09bb8cc-ad31-45a2-9718-bc7641002c7c",
   "metadata": {},
   "outputs": [],
   "source": [
    "# Generates a random family where every generation has at most max_num_children children\n",
    "max_num_children = 3\n",
    "\n",
    "def family_gen():\n",
    "    \"\"\"\n",
    "    Returns a list of family members for the randomly generated family, where the first element is the first gen member\n",
    "    \"\"\"\n",
    "    \n",
    "    fem_names_new = deepcopy(fem_names)\n",
    "    shuffle(fem_names_new)\n",
    "    masc_names_new = deepcopy(masc_names)\n",
    "    shuffle(masc_names_new)\n",
    "\n",
    "    names = [masc_names_new, fem_names_new]\n",
    "    fam_list = []\n",
    "\n",
    "    first_gen = Family_Member(None, randint(0,1), names)\n",
    "    fam_list.append(first_gen)\n",
    "    \n",
    "    num_sec_gen = randint(1,max_num_children)\n",
    "    for i in range(num_sec_gen):\n",
    "        first_gen.make_child(randint(0,1), names)\n",
    "        \n",
    "    for second_gen in first_gen.children:\n",
    "        second_gen.find_siblings()\n",
    "        fam_list.append(second_gen)\n",
    "        \n",
    "        num_third_gen = randint(1,max_num_children)\n",
    "        for i in range(num_third_gen):\n",
    "            second_gen.make_child(randint(0,1), names)\n",
    "            \n",
    "        for third_gen in second_gen.children:\n",
    "            third_gen.find_siblings()\n",
    "            fam_list.append(third_gen)\n",
    "            \n",
    "            num_fourth_gen = randint(1,max_num_children)\n",
    "            for i in range(num_fourth_gen):\n",
    "                third_gen.make_child(randint(0,1), names)\n",
    "            \n",
    "            for fourth_gen in third_gen.children:\n",
    "                fourth_gen.find_siblings()\n",
    "                fam_list.append(fourth_gen)\n",
    "    \n",
    "    return fam_list"
   ]
  },
  {
   "cell_type": "code",
   "execution_count": 45,
   "id": "adafaa0c-dca1-4ce6-88cb-270f082c05f6",
   "metadata": {},
   "outputs": [],
   "source": [
    "# Generate a list of families, where each element is a list of family members\n",
    "\n",
    "list_fams = []\n",
    "for i in range(6000):\n",
    "    list_fams.append(family_gen())"
   ]
  },
  {
   "cell_type": "code",
   "execution_count": 46,
   "id": "d58afe5b-4b1c-4185-b286-2d7f49100558",
   "metadata": {},
   "outputs": [
    {
     "name": "stdout",
     "output_type": "stream",
     "text": [
      "14.961833333333333\n",
      "[Rebecca (F), Carl (M), Kenneth (M), Mary (F), Wanda (F), Ruby (F), Lisa (F), Janet (F), Jennifer (F), Joan (F), Debra (F), Kathy (F), Katherine (F), Juan (M), Jacqueline (F), Bruce (M), Nicholas (M), Alice (F), Rachel (F), Roger (M), Benjamin (M), Deborah (F), Eugene (M)]\n"
     ]
    }
   ],
   "source": [
    "# Prints average family size, and an arbitrary family's list of names\n",
    "\n",
    "print(sum([len(i) for i in list_fams])/6000.0)\n",
    "print((list_fams[10]))"
   ]
  },
  {
   "cell_type": "code",
   "execution_count": 47,
   "id": "8ca534d3-e12e-430a-92f0-3eb1fd854f65",
   "metadata": {},
   "outputs": [],
   "source": [
    "# Methods to generate description of the family descended from a given member\n",
    "\n",
    "def list_to_string_with_sab(fam_mem_list):\n",
    "    fam_mem_str = \"\"\n",
    "    for i in range(len(fam_mem_list)-1):\n",
    "        fam_mem_str += str(fam_mem_list[i]) + \", \"\n",
    "    fam_mem_str += str(fam_mem_list[-1])\n",
    "    \n",
    "    return fam_mem_str\n",
    "\n",
    "def list_to_string_wo_sab(fam_mem_list):\n",
    "    \n",
    "    if fam_mem_list:\n",
    "        \n",
    "        fam_mem_str = \"\"\n",
    "        for i in range(len(fam_mem_list)-1):\n",
    "            fam_mem_str += fam_mem_list[i].name + \", \"\n",
    "        fam_mem_str += fam_mem_list[-1].name\n",
    "        return fam_mem_str\n",
    "    else:\n",
    "        return \"None\"\n",
    "\n",
    "def family_tree_string(fam_mem):\n",
    "    \n",
    "    sab_list = [\"M\", \"F\"]\n",
    "    # print(fam_mem, fam_mem.children)\n",
    "    if len(fam_mem.children)>1:\n",
    "        fam_tree_string = f\"{fam_mem} has {len(fam_mem.children)} children: {list_to_string_with_sab(fam_mem.children)}. \"\n",
    "        for child in fam_mem.children:\n",
    "            fam_tree_string += family_tree_string(child)\n",
    "        return fam_tree_string\n",
    "    \n",
    "    elif len(fam_mem.children)==1:\n",
    "        fam_tree_string = f\"{fam_mem} has 1 child: {list_to_string_with_sab(fam_mem.children)}. \"\n",
    "        for child in fam_mem.children:\n",
    "            fam_tree_string += family_tree_string(child)\n",
    "        return fam_tree_string\n",
    "\n",
    "    else:\n",
    "        return \"\"\n",
    "    "
   ]
  },
  {
   "cell_type": "code",
   "execution_count": 48,
   "id": "09749e15-6bd3-44b9-820d-d0201c2ae392",
   "metadata": {},
   "outputs": [
    {
     "data": {
      "text/plain": [
       "'Anne (F) has 2 children: Matthew (M), Walter (M). Matthew (M) has 2 children: Angela (F), Wayne (M). Angela (F) has 2 children: Betty (F), Daniel (M). Wayne (M) has 3 children: Susan (F), Kathy (F), Tammy (F). Walter (M) has 1 child: Ann (F). Ann (F) has 1 child: Gary (M). '"
      ]
     },
     "execution_count": 48,
     "metadata": {},
     "output_type": "execute_result"
    }
   ],
   "source": [
    "# Generates a description for an arbitrary family\n",
    "\n",
    "family_tree_string(list_fams[11][0])"
   ]
  },
  {
   "cell_type": "code",
   "execution_count": 49,
   "id": "c0a56bd0-c6cd-4d87-827e-439315630733",
   "metadata": {},
   "outputs": [],
   "source": [
    "# Helper functions to find answers to tasks\n",
    "\n",
    "from random import choice\n",
    "\n",
    "def gen_list(fam_mem, disallowed_list, sab_list, desired_depth):\n",
    "    \n",
    "    def gen_list_helper(fam_mem, accum_list, current_depth):\n",
    "\n",
    "        current_depth +=1\n",
    "        for child in fam_mem.children:\n",
    "            if (desired_depth > current_depth):\n",
    "                gen_list_helper(child, accum_list, current_depth)\n",
    "            else:\n",
    "                if (child not in disallowed_list) and (child.sab in sab_list):\n",
    "                    accum_list.append(child)\n",
    "        \n",
    "        return accum_list\n",
    "    \n",
    "    return gen_list_helper(fam_mem, [], 1)\n",
    "\n",
    "def cousin_list(fam_mem):\n",
    "    first_gen = fam_mem.parent.parent.parent\n",
    "    output_list = gen_list(first_gen, fam_mem.siblings+[fam_mem], [0,1], 4)\n",
    "    shuffle(output_list)\n",
    "    \n",
    "    return output_list\n",
    "\n",
    "def male_cousin_list(fam_mem):\n",
    "    first_gen = fam_mem.parent.parent.parent\n",
    "    \n",
    "    output_list = gen_list(first_gen, fam_mem.siblings+[fam_mem], [0], 4)\n",
    "    shuffle(output_list)\n",
    "    \n",
    "    return output_list\n",
    "\n",
    "def female_cousin_list(fam_mem):\n",
    "    first_gen = fam_mem.parent.parent.parent\n",
    "    \n",
    "    output_list = gen_list(first_gen, fam_mem.siblings+[fam_mem], [1], 4)\n",
    "    shuffle(output_list)\n",
    "    \n",
    "    return output_list\n",
    "\n",
    "def aunts_ffcor_list(fam_mem):\n",
    "    \n",
    "    first_gen = fam_mem.parent.parent.parent\n",
    "    \n",
    "    output_list = gen_list(first_gen, [fam_mem.parent], [1], 3)\n",
    "    shuffle(output_list)\n",
    "    \n",
    "    return output_list\n",
    "\n",
    "def uncles_mfcor_list(fam_mem):\n",
    "    \n",
    "    first_gen = fam_mem.parent.parent.parent\n",
    "    \n",
    "    output_list = gen_list(first_gen, [fam_mem.parent], [0], 3)\n",
    "    shuffle(output_list)\n",
    "    \n",
    "    return output_list\n",
    "\n",
    "def aunts_uncles_fcor_list(fam_mem):\n",
    "    first_gen = fam_mem.parent.parent.parent\n",
    "    \n",
    "    output_list = gen_list(first_gen, [fam_mem.parent], [0,1], 3)\n",
    "    shuffle(output_list)\n",
    "    \n",
    "    return output_list\n",
    "\n",
    "def grandparent(fam_mem):\n",
    "    return [fam_mem.parent.parent]\n",
    "\n",
    "def parent(fam_mem):\n",
    "    return [fam_mem.parent]\n",
    "\n",
    "def siblings(fam_mem):\n",
    "    output_list = deepcopy(fam_mem.siblings)\n",
    "    shuffle(output_list)\n",
    "    \n",
    "    return output_list\n",
    "\n",
    "\n",
    "task_to_func_dict = {\"cousins\": cousin_list, \"male cousins\": male_cousin_list,\n",
    "                     \"female cousins\": female_cousin_list,\n",
    "                     \"aunts and female first cousins once removed\": aunts_ffcor_list, \n",
    "                     \"uncles and male first cousins once removed\": uncles_mfcor_list, \n",
    "                      \"aunts, uncles and first cousins once removed\": aunts_uncles_fcor_list,\n",
    "                      \"grandparent\": grandparent, \n",
    "                     \"parent\": parent, \n",
    "                     \"siblings\": siblings}\n",
    "list_tasks = list(task_to_func_dict.keys())"
   ]
  },
  {
   "cell_type": "code",
   "execution_count": 50,
   "id": "98b418a0-bf49-47bc-bb75-cc51b6fc7e2d",
   "metadata": {},
   "outputs": [],
   "source": [
    "# Function to generate a given taks using a random fourth gen family member\n",
    "\n",
    "def pick_random_fourth_gen(fam_list):\n",
    "    first_gen = fam_list[0]\n",
    "    second_gen = choice(first_gen.children)\n",
    "    third_gen = choice(second_gen.children)\n",
    "    fourth_gen = choice(third_gen.children)\n",
    "    return fourth_gen\n",
    "\n",
    "def generate_task(fam_list, task_name):\n",
    "    \n",
    "    fourth_gen = pick_random_fourth_gen(fam_list)\n",
    "    \n",
    "    return (family_tree_string(fam_list[0]) + f\"Name {fourth_gen.name}'s \" + task_name + \". Answer:\", \n",
    "            list_to_string_wo_sab(task_to_func_dict[task_name](fourth_gen)))\n",
    "    "
   ]
  },
  {
   "cell_type": "code",
   "execution_count": 51,
   "id": "6e18cf3e-57a5-4da3-b260-3632ee34e9cd",
   "metadata": {},
   "outputs": [
    {
     "data": {
      "text/plain": [
       "(\"Roger (M) has 3 children: George (M), Jose (M), Randy (M). George (M) has 1 child: Gary (M). Gary (M) has 2 children: Gregory (M), Martin (M). Jose (M) has 3 children: Jeffrey (M), Patrick (M), Rachel (F). Jeffrey (M) has 1 child: Kimberly (F). Patrick (M) has 2 children: Kathleen (F), Amanda (F). Rachel (F) has 3 children: Elizabeth (F), Steve (M), Wanda (F). Randy (M) has 2 children: Jacqueline (F), Mark (M). Jacqueline (F) has 3 children: Doris (F), Ernest (M), Kenneth (M). Mark (M) has 2 children: Barbara (F), Alice (F). Name Martin's cousins. Answer:\",\n",
       " 'Steve, Doris, Kathleen, Barbara, Kimberly, Alice, Kenneth, Wanda, Amanda, Ernest, Elizabeth')"
      ]
     },
     "execution_count": 51,
     "metadata": {},
     "output_type": "execute_result"
    }
   ],
   "source": [
    "generate_task(list_fams[15], \"cousins\")"
   ]
  },
  {
   "cell_type": "code",
   "execution_count": null,
   "id": "a71e66c8-9a4f-4788-a4a3-d2bcc4fb2cdb",
   "metadata": {},
   "outputs": [],
   "source": []
  },
  {
   "cell_type": "code",
   "execution_count": 58,
   "id": "c3ab2d35-cb4a-4a51-ba5a-4648eb213836",
   "metadata": {},
   "outputs": [],
   "source": [
    "task_list = []\n",
    "for i in range(4800):\n",
    "    fam_list = family_gen()\n",
    "    task_name = choice(list_tasks)\n",
    "    \n",
    "    task_list += [generate_task(fam_list, task_name) + (task_name,)]"
   ]
  },
  {
   "cell_type": "code",
   "execution_count": 59,
   "id": "101e6357-d8e2-422c-ac16-7bb60ce172ce",
   "metadata": {},
   "outputs": [
    {
     "data": {
      "text/plain": [
       "(\"Margaret (F) has 2 children: Lori (F), Kimberly (F). Lori (F) has 3 children: Ann (F), Elizabeth (F), Virginia (F). Ann (F) has 2 children: Thomas (M), Benjamin (M). Elizabeth (F) has 2 children: Louis (M), Angela (F). Virginia (F) has 2 children: Mildred (F), Joshua (M). Kimberly (F) has 3 children: Barbara (F), Roy (M), Keith (M). Barbara (F) has 2 children: Phillip (M), Beverly (F). Roy (M) has 3 children: Dorothy (F), Ryan (M), Dennis (M). Keith (M) has 2 children: Deborah (F), Carolyn (F). Name Mildred's cousins. Answer:\",\n",
       " 'Louis, Dorothy, Dennis, Beverly, Deborah, Angela, Phillip, Ryan, Benjamin, Thomas, Carolyn',\n",
       " 'cousins')"
      ]
     },
     "execution_count": 59,
     "metadata": {},
     "output_type": "execute_result"
    }
   ],
   "source": [
    "task_list[32]"
   ]
  },
  {
   "cell_type": "code",
   "execution_count": 60,
   "id": "c56e1b69-14b9-4598-bd1b-25afdead9b52",
   "metadata": {},
   "outputs": [
    {
     "name": "stdout",
     "output_type": "stream",
     "text": [
      "(\"Billy (M) has 1 child: Harry (M). Harry (M) has 3 children: Nicole (F), Sandra (F), Carlos (M). Nicole (F) has 2 children: Gerald (M), Lisa (F). Sandra (F) has 3 children: Patricia (F), Larry (M), Jennifer (F). Carlos (M) has 3 children: Walter (M), Jeffrey (M), Craig (M). Name Gerald's cousins. Answer:\", 'Jeffrey, Craig, Larry, Patricia, Jennifer, Walter', 'cousins')\n"
     ]
    }
   ],
   "source": [
    "sibling_tasks = [task for task in task_list if task[2]==\"siblings\"]\n",
    "cousin_tasks = [task for task in task_list if task[2]==\"cousins\"]\n",
    "print(cousin_tasks[10])"
   ]
  },
  {
   "cell_type": "code",
   "execution_count": 61,
   "id": "c563da83-3b56-40e7-a6e3-ade5d7077df4",
   "metadata": {},
   "outputs": [
    {
     "name": "stdout",
     "output_type": "stream",
     "text": [
      "52\n"
     ]
    },
    {
     "data": {
      "text/plain": [
       "538"
      ]
     },
     "execution_count": 61,
     "metadata": {},
     "output_type": "execute_result"
    }
   ],
   "source": [
    "print(len([task for task in cousin_tasks if task[1]==\"None\"]))\n",
    "len(cousin_tasks)"
   ]
  },
  {
   "cell_type": "code",
   "execution_count": 62,
   "id": "0f3a71f5-40bc-474d-a989-ab7cf4a972f7",
   "metadata": {},
   "outputs": [],
   "source": [
    "task_list_json = [{\"query\": task[0], \"response\":task[1], \"task_name\":task[2]} for task in task_list]"
   ]
  },
  {
   "cell_type": "code",
   "execution_count": 63,
   "id": "7ff7b581-daa3-4a3c-b991-bc8f80fdae0f",
   "metadata": {},
   "outputs": [],
   "source": [
    "import json\n",
    "with open('datasets/fam_rel/fam_sft_eval_data_shuffled_3_children.jsonl', 'w') as outfile:\n",
    "    for task in task_list_json:\n",
    "        json.dump(task, outfile)\n",
    "        outfile.write('\\n')"
   ]
  },
  {
   "cell_type": "code",
   "execution_count": null,
   "id": "da45c6da-7086-44a6-a5b9-b5302bccb11c",
   "metadata": {},
   "outputs": [],
   "source": []
  }
 ],
 "metadata": {
  "kernelspec": {
   "display_name": "Python 3 (ipykernel)",
   "language": "python",
   "name": "python3"
  },
  "language_info": {
   "codemirror_mode": {
    "name": "ipython",
    "version": 3
   },
   "file_extension": ".py",
   "mimetype": "text/x-python",
   "name": "python",
   "nbconvert_exporter": "python",
   "pygments_lexer": "ipython3",
   "version": "3.9.7"
  }
 },
 "nbformat": 4,
 "nbformat_minor": 5
}
