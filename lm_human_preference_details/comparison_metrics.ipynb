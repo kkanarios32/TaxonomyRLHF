{
 "cells": [
  {
   "cell_type": "code",
   "execution_count": 11,
   "id": "ccfd9cce-453b-4660-8432-fd0bb7da8955",
   "metadata": {},
   "outputs": [
    {
     "name": "stderr",
     "output_type": "stream",
     "text": [
      "100%|██████████| 1000/1000 [00:00<00:00, 99911.96it/s]"
     ]
    },
    {
     "name": "stdout",
     "output_type": "stream",
     "text": [
      "809.761\n"
     ]
    },
    {
     "name": "stderr",
     "output_type": "stream",
     "text": [
      "\n"
     ]
    }
   ],
   "source": [
    "import json\n",
    "from tqdm import tqdm\n",
    "\n",
    "output_len = 0\n",
    "with (open(\"sft.jsonl\", \"r\") as sft_file):\n",
    "    sft_data = list(sft_file)\n",
    "    for i in tqdm(range(1000)):\n",
    "        sft_json = json.loads(sft_data[i])\n",
    "        output_len += len(sft_json[\"response\"])/1000.0\n",
    "print(output_len)\n",
    "                "
   ]
  },
  {
   "cell_type": "code",
   "execution_count": 12,
   "id": "e1b8e1c3-af5e-4685-bfb1-6091f3757c32",
   "metadata": {},
   "outputs": [
    {
     "name": "stderr",
     "output_type": "stream",
     "text": [
      "100%|██████████| 1000/1000 [00:00<00:00, 103863.11it/s]"
     ]
    },
    {
     "name": "stdout",
     "output_type": "stream",
     "text": [
      "844.3050000000005\n"
     ]
    },
    {
     "name": "stderr",
     "output_type": "stream",
     "text": [
      "\n"
     ]
    }
   ],
   "source": [
    "import json\n",
    "from tqdm import tqdm\n",
    "\n",
    "output_len = 0\n",
    "with (open(\"dpo.jsonl\", \"r\") as dpo_file):\n",
    "    dpo_data = list(dpo_file)\n",
    "    for i in tqdm(range(1000)):\n",
    "        dpo_json = json.loads(dpo_data[i])\n",
    "        output_len += len(dpo_json[\"response\"])/1000.0\n",
    "print(output_len)"
   ]
  },
  {
   "cell_type": "code",
   "execution_count": 13,
   "id": "c2d2e753-5b1d-4f4f-be04-7156c778f5e2",
   "metadata": {},
   "outputs": [
    {
     "name": "stderr",
     "output_type": "stream",
     "text": [
      "100%|██████████| 1000/1000 [00:00<00:00, 70655.19it/s]"
     ]
    },
    {
     "name": "stdout",
     "output_type": "stream",
     "text": [
      "2046.6029999999996\n"
     ]
    },
    {
     "name": "stderr",
     "output_type": "stream",
     "text": [
      "\n"
     ]
    }
   ],
   "source": [
    "import json\n",
    "from tqdm import tqdm\n",
    "\n",
    "output_len = 0\n",
    "with (open(\"kto.jsonl\", \"r\") as kto_file):\n",
    "    kto_data = list(kto_file)\n",
    "    for i in tqdm(range(1000)):\n",
    "        kto_json = json.loads(kto_data[i])\n",
    "        output_len += len(kto_json[\"response\"])/1000.0\n",
    "print(output_len)"
   ]
  },
  {
   "cell_type": "code",
   "execution_count": null,
   "id": "3fc2eb98-bdc4-4a48-a410-c1fcd22447ba",
   "metadata": {},
   "outputs": [],
   "source": []
  }
 ],
 "metadata": {
  "kernelspec": {
   "display_name": "Python 3 (ipykernel)",
   "language": "python",
   "name": "python3"
  },
  "language_info": {
   "codemirror_mode": {
    "name": "ipython",
    "version": 3
   },
   "file_extension": ".py",
   "mimetype": "text/x-python",
   "name": "python",
   "nbconvert_exporter": "python",
   "pygments_lexer": "ipython3",
   "version": "3.9.7"
  }
 },
 "nbformat": 4,
 "nbformat_minor": 5
}
